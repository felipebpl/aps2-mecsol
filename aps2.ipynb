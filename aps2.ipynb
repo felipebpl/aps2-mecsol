{
 "cells": [
  {
   "cell_type": "markdown",
   "id": "29829eaf",
   "metadata": {},
   "source": [
    "## APS2 - Transferência de Calor e Mecânica dos Sólidos\n",
    "\n",
    "#### OBJETIVO GERAL\n",
    "Desenvolver uma função, usando o Python, para avaliar o comportamento da temperatura de um dissipador de calor (aleta) aplicando técnicas numéricas de simulação. "
   ]
  },
  {
   "cell_type": "markdown",
   "id": "454ecab1",
   "metadata": {},
   "source": [
    "OBS:\n",
    "A função deve receber:\n",
    "- Dados do material: densidade do material, calor específico, condutividade térmica.\n",
    "- Dados do ambiente: coeficiente de transferência por convecção, temperatura do fluido.\n",
    "- Dados do dissipador: temperatura da base, raio, comprimento.\n",
    "- Dados do modelo numérico: Δ𝑥, tempo total da simulação.\n",
    "- A função deve retornar: Um gráfico (𝑇𝑒𝑚𝑝𝑒𝑟𝑎𝑡𝑢𝑟𝑎 × 𝑝𝑜𝑠𝑖çã𝑜) com o resultado numérico. Um gráfico (𝑇𝑒𝑚𝑝𝑒𝑟𝑎𝑡𝑢𝑟𝑎 × 𝑝𝑜𝑠𝑖çã𝑜) com o resultado analítico. Use legendas e indique as unidades usadas. "
   ]
  },
  {
   "cell_type": "code",
   "execution_count": 75,
   "id": "7f31441c",
   "metadata": {},
   "outputs": [],
   "source": [
    "from math import *\n",
    "import numpy as np \n",
    "from  matplotlib import pyplot as plt"
   ]
  },
  {
   "cell_type": "markdown",
   "id": "a7b250ef",
   "metadata": {},
   "source": [
    "### Descrição do problema\n",
    "\n",
    "Considere uma aleta de seção transversal circular e constante, com temperatura fixa na base e exposta ao ambiente em\n",
    "todas as outras superfícies. Podemos esboçar as entradas e saídas de energia em um volume de controle definido ao\n",
    "redor de uma seção como indica a Fig.1. "
   ]
  },
  {
   "cell_type": "markdown",
   "id": "9d9d1b2a",
   "metadata": {},
   "source": [
    "<img src=\"./img1.png\"  width=50% alt=\"problema\"> </img>"
   ]
  },
  {
   "cell_type": "markdown",
   "id": "72befb1e",
   "metadata": {},
   "source": [
    "1. Aplique os conceitos do método das diferenças finitas na equação diferencial do problema para definir uma equação de diferença algébrica associada aos nós da aleta. Considere para a segunda derivada da temperatura no espaço uma equação de diferença finita centrada e para a primeira derivada no tempo da temperatura uma equação de diferença progressiva. Apresente o desenvolvimento das equações."
   ]
  },
  {
   "cell_type": "markdown",
   "id": "29c4404c",
   "metadata": {},
   "source": [
    "#### Da equação do enunciado, temos a fórmula \n",
    "<img src=\"./img2.png\"  width=30% alt=\"formula\"> </img>\n",
    "#### Temos\n",
    "<img src=\"./img3.png\"  width=30% alt=\"formula\"> </img>\n",
    "#### Temos\n",
    "<img src=\"./img4.png\"  width=30% alt=\"formula\"> </img>\n",
    "#### Temos\n",
    "<img src=\"./img5.png\"  width=30% alt=\"formula\"> </img>\n"
   ]
  },
  {
   "cell_type": "markdown",
   "id": "8cf53dc3",
   "metadata": {},
   "source": [
    "2. Apresente um gráfico (𝑇𝑒𝑚𝑝𝑒𝑟𝑎𝑡𝑢𝑟𝑎 × 𝑝𝑜𝑠𝑖çã𝑜) após obter o regime permanente. Use uma tolerância de 𝑡𝑜𝑙 = 1 ∙ 10ିଵ଴. Considere que a aleta, de comprimento 𝐿 = 300𝑚𝑚 , densidade de 2700 𝑘𝑔/𝑚³ , condutividade térmica de 180 𝑊/(𝑚𝐾) e calor específico 896𝐽/(𝑘𝑔𝐾), tem a temperatura especificada na extremidade de 𝑇(𝐿) = 25℃. A aleta está em contato com uma base a 𝑇௕ = 100℃ em um ambiente a 𝑇ஶ = 50℃ e ℎ = 50𝑊/𝑚ଶ𝐾. Para a condição de estabilidade do procedimento numérico use Δ𝑡 ≤ ୼௫మ ఈ∙൬೓ು౴ೣమ ೖಲ೟ೝ ାଶ൰"
   ]
  },
  {
   "cell_type": "code",
   "execution_count": 76,
   "id": "c993e15c",
   "metadata": {},
   "outputs": [],
   "source": [
    "𝑡𝑜𝑙 = 1e-10 # Tolerância \n",
    "l = 300e-3 # Comprimento da aleta [m]\n",
    "d = 2700 # Densidade [kg/m^3]\n",
    "k = 180 # Condutividade térmica [W/mK]\n",
    "c = 896 # Calor específico [J/kgK]\n",
    "Tb = 100 # Temperatura da base\n",
    "Ta = 50 # Temperatura Ambiente \n",
    "T_ext = 25 #Temperatura na extremidade\n",
    "h = 50 # Coeficiente de transferência [W/m^2K]\n",
    "delta_x = 1e-3"
   ]
  },
  {
   "cell_type": "code",
   "execution_count": 77,
   "id": "229e14d7",
   "metadata": {},
   "outputs": [
    {
     "name": "stderr",
     "output_type": "stream",
     "text": [
      "/tmp/ipykernel_12229/4088666266.py:14: RuntimeWarning: overflow encountered in double_scalars\n",
      "  T[x+1, i] = T[x, i] + (alfa*delta_t)*((T[x, i+1] - 2*T[x, i] + T[x, i-1])/(delta_x**2) - C*(T[x, i] - Tf))\n",
      "/tmp/ipykernel_12229/4088666266.py:14: RuntimeWarning: invalid value encountered in double_scalars\n",
      "  T[x+1, i] = T[x, i] + (alfa*delta_t)*((T[x, i+1] - 2*T[x, i] + T[x, i-1])/(delta_x**2) - C*(T[x, i] - Tf))\n"
     ]
    },
    {
     "name": "stdout",
     "output_type": "stream",
     "text": [
      "[[ 0.00000000e+00  0.00000000e+00  0.00000000e+00 ...  0.00000000e+00\n",
      "   0.00000000e+00  0.00000000e+00]\n",
      " [ 0.00000000e+00  1.11111112e-06  1.11111112e-06 ...  1.11111112e-06\n",
      "   1.11111112e-06  0.00000000e+00]\n",
      " [ 0.00000000e+00 -3.70370376e-14  2.22222221e-06 ...  2.22222221e-06\n",
      "  -3.70370376e-14  0.00000000e+00]\n",
      " ...\n",
      " [ 0.00000000e+00             nan             nan ...             nan\n",
      "              nan  0.00000000e+00]\n",
      " [ 0.00000000e+00             nan             nan ...             nan\n",
      "              nan  0.00000000e+00]\n",
      " [ 0.00000000e+00             nan             nan ...             nan\n",
      "              nan  0.00000000e+00]]\n"
     ]
    },
    {
     "data": {
      "image/png": "[encoded data removed]",
      "text/plain": [
       "<Figure size 432x288 with 1 Axes>"
      ]
     },
     "metadata": {
      "needs_background": "light"
     },
     "output_type": "display_data"
    }
   ],
   "source": [
    "def temp_aleta(d, c, k, h, Tf, Tb, r, l, delta_x, t_total): \n",
    "    #retorna um gráfico\n",
    "    p = 2*pi*r #perimetro\n",
    "    Atr = pi*(r**2)\n",
    "    C = (h*p)/(k*Atr)\n",
    "    alfa = k/(d*c)\n",
    "    delta_t = (delta_x**2) / alfa*(C*(delta_x**2) + 2)\n",
    "    passos = int(t_total / delta_t)\n",
    "    n_nos = int(l/delta_x) + 1\n",
    "    T = np.zeros((passos, n_nos))\n",
    "    \n",
    "    for x in range(0, passos - 1):\n",
    "        for i in range(1, n_nos - 1):\n",
    "            T[x+1, i] = T[x, i] + (alfa*delta_t)*((T[x, i+1] - 2*T[x, i] + T[x, i-1])/(delta_x**2) - C*(T[x, i] - Tf))\n",
    "        \n",
    "    x = np.arange(0, l, delta_x)\n",
    "    print(T)\n",
    "    plt.plot(x, T[-1])\n",
    "    plt.grid(True)\n",
    "    plt.show()\n",
    "\n",
    "    return\n",
    "\n",
    "temp_aleta(d, c, k, h, 50, Tb, 50, l, delta_x, 100)"
   ]
  },
  {
   "cell_type": "markdown",
   "id": "bad2c758",
   "metadata": {},
   "source": [
    "3. Para validar os resultados obtidos com o software desenvolvido, apresente um gráfico (𝑇𝑒𝑚𝑝𝑒𝑟𝑎𝑡𝑢𝑟𝑎 × 𝑝𝑜𝑠𝑖çã𝑜) para o comportamento analítico da temperatura na aleta usando as mesmas condições definidas no item anterior. "
   ]
  },
  {
   "cell_type": "code",
   "execution_count": null,
   "id": "0f9f9074",
   "metadata": {},
   "outputs": [],
   "source": []
  }
 ],
 "metadata": {
  "kernelspec": {
   "display_name": "Python 3",
   "language": "python",
   "name": "python3"
  },
  "language_info": {
   "codemirror_mode": {
    "name": "ipython",
    "version": 3
   },
   "file_extension": ".py",
   "mimetype": "text/x-python",
   "name": "python",
   "nbconvert_exporter": "python",
   "pygments_lexer": "ipython3",
   "version": "3.8.10"
  }
 },
 "nbformat": 4,
 "nbformat_minor": 5
}
