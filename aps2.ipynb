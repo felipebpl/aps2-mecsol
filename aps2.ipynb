{
 "cells": [
  {
   "cell_type": "markdown",
   "id": "1efaf15f",
   "metadata": {},
   "source": [
    "## APS2 - Transferência de Calor e Mecânica dos Sólidos\n",
    "\n",
    "#### OBJETIVO GERAL\n",
    "Desenvolver uma função, usando o Python, para avaliar o comportamento da temperatura de um dissipador de calor (aleta) aplicando técnicas numéricas de simulação. "
   ]
  },
  {
   "cell_type": "markdown",
   "id": "30c66129",
   "metadata": {},
   "source": [
    "OBS:\n",
    "A função deve receber:\n",
    "- Dados do material: densidade do material, calor específico, condutividade térmica.\n",
    "- Dados do ambiente: coeficiente de transferência por convecção, temperatura do fluido.\n",
    "- Dados do dissipador: temperatura da base, raio, comprimento.\n",
    "- Dados do modelo numérico: Δ𝑥, tempo total da simulação.\n",
    "- A função deve retornar: Um gráfico (𝑇𝑒𝑚𝑝𝑒𝑟𝑎𝑡𝑢𝑟𝑎 × 𝑝𝑜𝑠𝑖çã𝑜) com o resultado numérico. Um gráfico (𝑇𝑒𝑚𝑝𝑒𝑟𝑎𝑡𝑢𝑟𝑎 × 𝑝𝑜𝑠𝑖çã𝑜) com o resultado analítico. Use legendas e indique as unidades usadas. "
   ]
  },
  {
   "cell_type": "code",
   "execution_count": 8,
   "id": "5b7f6ffc",
   "metadata": {},
   "outputs": [],
   "source": [
    "from math import *\n",
    "import numpy as np \n",
    "import matplotlib as plt"
   ]
  },
  {
   "cell_type": "markdown",
   "id": "1e3d168d",
   "metadata": {},
   "source": [
    "<img src=\"./problema.png\"  width=80% alt=\"zorka\"> </img>\n",
    "<img src=\"./formula.png\"  width=80% alt=\"zorka\"> </img>"
   ]
  },
  {
   "cell_type": "markdown",
   "id": "701b988b",
   "metadata": {},
   "source": [
    "1. Aplique os conceitos do método das diferenças finitas na equação diferencial do problema para definir uma equação de diferença algébrica associada aos nós da aleta. Considere para a segunda derivada da temperatura no espaço uma equação de diferença finita centrada e para a primeira derivada no tempo da temperatura uma equação de diferença progressiva. Apresente o desenvolvimento das equações."
   ]
  },
  {
   "cell_type": "code",
   "execution_count": 9,
   "id": "3f5f3304",
   "metadata": {},
   "outputs": [],
   "source": [
    "def temp_aleta(d, c, k, h, Tf, Tb, r, l, delta_x, t_total): \n",
    "    T = []\n",
    "    #retorna um gráfico\n",
    "    pass"
   ]
  },
  {
   "cell_type": "code",
   "execution_count": 7,
   "id": "3f5bec23",
   "metadata": {},
   "outputs": [],
   "source": [
    "𝑡𝑜𝑙 = 1e-10 # Tolerância \n",
    "l = 300e-3 # Comprimento da aleta [m]\n",
    "d = 2700 # Densidade [kg/m^3]\n",
    "k = 180 # Condutividade térmica (W/(mK))\n",
    "c = 896 # Calor específico (J/(kgK))\n",
    "Tb = 100 # Temperatura da base\n",
    "Ta = 50 # Temperatura Ambiente \n",
    "T_ext = 25 #Temperatura na extremidade\n",
    "h = 50 # [W/m^2K]"
   ]
  },
  {
   "cell_type": "code",
   "execution_count": null,
   "id": "6b2533f2",
   "metadata": {},
   "outputs": [],
   "source": []
  }
 ],
 "metadata": {
  "kernelspec": {
   "display_name": "Python 3",
   "language": "python",
   "name": "python3"
  },
  "language_info": {
   "codemirror_mode": {
    "name": "ipython",
    "version": 3
   },
   "file_extension": ".py",
   "mimetype": "text/x-python",
   "name": "python",
   "nbconvert_exporter": "python",
   "pygments_lexer": "ipython3",
   "version": "3.8.8"
  }
 },
 "nbformat": 4,
 "nbformat_minor": 5
}
