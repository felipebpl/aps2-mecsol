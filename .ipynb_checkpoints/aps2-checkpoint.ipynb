{
 "cells": [
  {
   "cell_type": "markdown",
   "metadata": {},
   "source": [
    "## APS2 - Transferência de Calor e Mecânica dos Sólidos\n",
    "\n",
    "#### OBJETIVO GERAL\n",
    "Desenvolver uma função, usando o Python, para avaliar o comportamento da temperatura de um dissipador de calor (aleta) aplicando técnicas numéricas de simulação. "
   ]
  },
  {
   "cell_type": "markdown",
   "metadata": {},
   "source": [
    "OBS:\n",
    "A função deve receber:\n",
    "- Dados do material: densidade do material, calor específico, condutividade térmica.\n",
    "- Dados do ambiente: coeficiente de transferência por convecção, temperatura do fluido.\n",
    "- Dados do dissipador: temperatura da base, raio, comprimento.\n",
    "- Dados do modelo numérico: Δ𝑥, tempo total da simulação.\n",
    "- A função deve retornar: Um gráfico (𝑇𝑒𝑚𝑝𝑒𝑟𝑎𝑡𝑢𝑟𝑎 × 𝑝𝑜𝑠𝑖çã𝑜) com o resultado numérico. Um gráfico (𝑇𝑒𝑚𝑝𝑒𝑟𝑎𝑡𝑢𝑟𝑎 × 𝑝𝑜𝑠𝑖çã𝑜) com o resultado analítico. Use legendas e indique as unidades usadas. "
   ]
  },
  {
   "cell_type": "code",
   "execution_count": 2,
   "metadata": {},
   "outputs": [],
   "source": [
    "from math import *\n",
    "import numpy as np \n",
    "from  matplotlib import pyplot as plt"
   ]
  },
  {
   "cell_type": "markdown",
   "metadata": {},
   "source": [
    "### Descrição do problema\n",
    "\n",
    "Considere uma aleta de seção transversal circular e constante, com temperatura fixa na base e exposta ao ambiente em\n",
    "todas as outras superfícies. Podemos esboçar as entradas e saídas de energia em um volume de controle definido ao\n",
    "redor de uma seção como indica a Fig.1. "
   ]
  },
  {
   "cell_type": "markdown",
   "metadata": {},
   "source": [
    "<img src=\"./img1.png\"  width=50% alt=\"problema\"> </img>"
   ]
  },
  {
   "cell_type": "markdown",
   "metadata": {},
   "source": [
    "1. Aplique os conceitos do método das diferenças finitas na equação diferencial do problema para definir uma equação de diferença algébrica associada aos nós da aleta. Considere para a segunda derivada da temperatura no espaço uma equação de diferença finita centrada e para a primeira derivada no tempo da temperatura uma equação de diferença progressiva. Apresente o desenvolvimento das equações."
   ]
  },
  {
   "cell_type": "markdown",
   "metadata": {},
   "source": [
    "#### Do enunciado, temos a forma geral da equação da energia para uma superfície estendida, em regime transistente (1):\n",
    "$$\\frac { d ^ { 2 } T } { d x ^ { 2 } } - \\frac { h P } { k A _ { t r } } ( T - T _ { \\infty } ) = \\frac { 1 } { \\alpha } \\cdot \\frac { d T } { d t }$$"
   ]
  },
  {
   "cell_type": "markdown",
   "metadata": {},
   "source": [
    "#### Para a segunda derivada da temperatura no espaço, temos a equação de diferença finita centrada (2):\n",
    "$$\\frac { \\partial ^ { 2 } T } { \\partial x ^ { 2 } } = \\frac { T _ { i + 1, j} - 2 T _ { i, j } + T _ { i - 1, j }  } { \\Delta x ^ { 2 } }$$"
   ]
  },
  {
   "cell_type": "markdown",
   "metadata": {},
   "source": [
    "#### Para a primeira derivada da temperatura no espaço, temos a equação de diferença progressiva (3):\n",
    "$$\\frac { \\partial T } { \\partial t } = \\frac { T _ { i } ^ { l + 1 } - T _ { i } ^ { l } } { \\Delta t }$$"
   ]
  },
  {
   "cell_type": "markdown",
   "metadata": {},
   "source": [
    "#### Substituindo (2) e (3) em (1), temos: \n",
    "$$\\frac { T _ { i + 1 } - 2 T _ { i } + T _ { i - 1 } } {  \\Delta x ^ { 2 } } - \\frac { h P } { k A _ { tr } } ( T - T _ { \\infty } ) = \\frac { 1 } { \\alpha } \\cdot \\frac { T _ { i } ^ { l + 1 } - T _ { i } ^ { l } } { \\Delta t }$$"
   ]
  },
  {
   "cell_type": "markdown",
   "metadata": {},
   "source": [
    "#### Resolvendo Analíticamente \n",
    "$$\\frac { T _ { i + 1 } - 2 T _ { i } + T _ { i - 1 } } {  \\Delta x ^ { 2 } } - \\frac { h P } { k A _ { tr } } ( T - T _ { \\infty } ) = \\frac { 1 } { \\alpha } \\cdot \\frac { T _ { i } ^ { l + 1 } - T _ { i } ^ { l } } { \\Delta t }$$"
   ]
  },
  {
   "cell_type": "markdown",
   "metadata": {},
   "source": [
    "$$T _ { i } ^ { l + 1 } - T _ { i } ^ { l } = ( \\frac { T _ { i + 1 } - 2 T _ { i } + T _ { i - 1 } } { \\Delta x ^ { 2 } } - \\frac { h P } { k A _ { tr } } ( T - T _ { \\infty } ) ) \\cdot ( \\alpha \\cdot \\Delta t )$$"
   ]
  },
  {
   "cell_type": "markdown",
   "metadata": {},
   "source": [
    "$$T _ { i } ^ { l + 1 } = ( \\frac { T _ { i + 1 }  - 2 T _ { i } + T _ { i-1 } } { \\Delta x ^ { 2 } } - \\frac { h P } { k A _ { tr } } ( T - T _ { \\infty } ) ) \\cdot ( \\alpha \\cdot \\Delta t ) + T _ { i } ^ { l }$$"
   ]
  },
  {
   "cell_type": "markdown",
   "metadata": {},
   "source": [
    "#### Concluindo\n",
    "$$T _ { i } ^ { l + 1 } = \\frac { \\alpha \\cdot \\Delta t } { \\Delta x ^ { 2 } } ( T _ { i + 1 } - 2 T _ { i } + T _ { i - 1 } ) - \\frac { \\alpha \\cdot \\Delta t \\cdot h P } { k A _ { t r } } ( T - T _ { \\infty } ) + T _ { i } ^ { l }$$"
   ]
  },
  {
   "cell_type": "markdown",
   "metadata": {},
   "source": [
    "2. Apresente um gráfico (𝑇𝑒𝑚𝑝𝑒𝑟𝑎𝑡𝑢𝑟𝑎 × 𝑝𝑜𝑠𝑖çã𝑜) após obter o regime permanente. Use uma tolerância de 𝑡𝑜𝑙 = 1e-10. Considere que a aleta, de comprimento 𝐿 = 300𝑚𝑚 , densidade de 2700 𝑘𝑔/𝑚³ , condutividade térmica de 180 𝑊/(𝑚𝐾) e calor específico 896𝐽/(𝑘𝑔𝐾), tem a temperatura especificada na extremidade de 𝑇(𝐿) = 25℃. A aleta está em contato com uma base a 𝑇b = 100℃ em um ambiente a 𝑇8 = 50℃ e ℎ = 50𝑊/𝑚2𝐾. Para a condição de estabilidade do procedimento numérico use: $$ \\Delta t \\leq \\frac { \\Delta x ^ { 2 } } { \\alpha \\cdot ( \\frac { h p \\Delta x ^ { 2 } } { k A _ {t r} } + 2 ) } $$"
   ]
  },
  {
   "cell_type": "markdown",
   "metadata": {},
   "source": [
    "3. Para validar os resultados obtidos com o software desenvolvido, apresente um gráfico (𝑇𝑒𝑚𝑝𝑒𝑟𝑎𝑡𝑢𝑟𝑎 × 𝑝𝑜𝑠𝑖çã𝑜) para o comportamento analítico da temperatura na aleta usando as mesmas condições definidas no item anterior. "
   ]
  },
  {
   "cell_type": "code",
   "execution_count": 29,
   "metadata": {},
   "outputs": [],
   "source": [
    "#𝑡𝑜𝑙 = 1e-10 # Tolerância \n",
    "# l = Comprimento da aleta\n",
    "# d = Densidade\n",
    "# k = Condutividade térmica\n",
    "# ce = Calor específico\n",
    "# Tb = Temperatura da base\n",
    "# Ta = Temperatura Ambiente \n",
    "# Tf = temperatuda do fluido\n",
    "# T_ext = Temperatura na extremidade\n",
    "# h = Coeficiente de transferência\n",
    "# delta_x\n",
    "# t_total = Tempo total"
   ]
  },
  {
   "cell_type": "code",
   "execution_count": 31,
   "metadata": {},
   "outputs": [
    {
     "data": {
      "image/png": "[encoded data removed]",
      "text/plain": [
       "<Figure size 432x288 with 1 Axes>"
      ]
     },
     "metadata": {
      "needs_background": "light"
     },
     "output_type": "display_data"
    },
    {
     "data": {
      "image/png": "[encoded data removed]",
      "text/plain": [
       "<Figure size 432x288 with 1 Axes>"
      ]
     },
     "metadata": {
      "needs_background": "light"
     },
     "output_type": "display_data"
    }
   ],
   "source": [
    "def temp_aleta(d, ce, k, h, Tf, Tb, r, l, delta_x, t_total): \n",
    "    #retorna um gráfico\n",
    "    p = 2*pi*r #perimetro\n",
    "    Atr = pi*(r**2)\n",
    "    C = (h*p)/(k*Atr)\n",
    "    alfa = k/(d*ce)\n",
    "    delta_t = ((delta_x**2) / (alfa*(C*(delta_x**2) + 2)))*0.99\n",
    "    cte = alfa*delta_t\n",
    "    passos = int(t_total / delta_t)\n",
    "    n_nos = int(l/delta_x) + 1\n",
    "    tol = 1e-10\n",
    "\n",
    "    #Aqui inicializamos a matriz com zeros\n",
    "    T = np.zeros((passos, n_nos))\n",
    "\n",
    "    #Condições de Contorno\n",
    "    T[:, n_nos - 1]= 25\n",
    "    T[:, 0] = Tb\n",
    "\n",
    "    error = 0\n",
    "    instance = 0\n",
    "    \n",
    "    for x in range(0, passos - 1):\n",
    "        list = []\n",
    "        for i in range(1, n_nos - 1):\n",
    "            T[x+1, i] = T[x, i] + (cte/(delta_x**2))*(T[x, i+1]-2*T[x,i] + T[x, i-1] - (cte*C*(T[x,i] - Tf)))\n",
    "\n",
    "            erro = (T[x+1,i] - T[x,i])/T[x+1, i]\n",
    "            list.append(erro)\n",
    "\n",
    "        if (max(list) < tol):\n",
    "            error = max(list)\n",
    "            instance = x\n",
    "            break     \n",
    "    if (instance > 0):\n",
    "        T = np.array(T[instance, :])\n",
    "    else:\n",
    "        T = np.array(T[passos-1, :])\n",
    "\n",
    "    x = np.linspace(0, l, n_nos)\n",
    "    plt.title(\"Solução analítica\")\n",
    "    plt.plot(x, T)\n",
    "    plt.xlabel(\"Posição [cm]\")\n",
    "    plt.ylabel(\"Temperatura [°C]\")\n",
    "    plt.grid()\n",
    "    plt.show()\n",
    "    \n",
    "# ITEM 3\n",
    "    # Comportamento analítico\n",
    "    m = sqrt((h*p)/(k*Atr))\n",
    "    v = h/(m*k)\n",
    "    cosh_ml = cosh(m*l)\n",
    "    senh_ml = sinh(m*l)\n",
    "\n",
    "    lista_temperatura = []\n",
    "    lista_posicao = np.arange(0, l, 0.01)\n",
    "    for i in lista_posicao:\n",
    "        res = (((25-Tf)/(Tb-Tf))*sinh(m*i)+sinh(m*(l-i)))/(senh_ml)\n",
    "        t = res*(Tb-Tf) + Tf\n",
    "        lista_temperatura.append(t)\n",
    "\n",
    "    plt.title(\"Solução analítica\")\n",
    "    plt.xlabel(\"Posição [cm]\")\n",
    "    plt.ylabel(\"Temperatura [°C]\")\n",
    "    plt.plot(lista_posicao, lista_temperatura) \n",
    "    plt.grid()\n",
    "    plt.show()\n",
    "    \n",
    "    return\n",
    "\n",
    "#Chamamos a função e passamos os parâmetros que nos foi passado no enunciado\n",
    "temp_aleta(2700, 896, 180, 50, 50, 100, 10/1000, 300/1000, 1e-2, 1000)"
   ]
  }
 ],
 "metadata": {
  "kernelspec": {
   "display_name": "Python 3",
   "language": "python",
   "name": "python3"
  },
  "language_info": {
   "codemirror_mode": {
    "name": "ipython",
    "version": 3
   },
   "file_extension": ".py",
   "mimetype": "text/x-python",
   "name": "python",
   "nbconvert_exporter": "python",
   "pygments_lexer": "ipython3",
   "version": "3.8.3"
  }
 },
 "nbformat": 4,
 "nbformat_minor": 5
}
